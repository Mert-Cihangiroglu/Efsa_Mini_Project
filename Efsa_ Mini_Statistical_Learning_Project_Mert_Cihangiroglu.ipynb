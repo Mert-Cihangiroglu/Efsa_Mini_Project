{
 "cells": [
  {
   "cell_type": "markdown",
   "metadata": {},
   "source": [
    "# EFSA-MINI PROJECT FOR STATISTICAL LEARNING COURSE"
   ]
  },
  {
   "cell_type": "markdown",
   "metadata": {},
   "source": [
    "This Notebook is created by Mert Cihangiroglu for the Mini Project for Statistical Learning course in University of Pavia"
   ]
  },
  {
   "cell_type": "markdown",
   "metadata": {},
   "source": [
    "DOWNLOADING NECESSARY LIBRARIES"
   ]
  },
  {
   "cell_type": "code",
   "execution_count": 20,
   "metadata": {},
   "outputs": [],
   "source": [
    "import pandas as pd\n",
    "import numpy as np\n",
    "import matplotlib.pyplot as plt\n",
    "from sklearn.metrics import mean_squared_error, r2_score\n",
    "from sklearn.linear_model import LinearRegression\n",
    "import sklearn\n",
    "from statsmodels.sandbox.regression.predstd import wls_prediction_std\n",
    "from sklearn.model_selection import train_test_split"
   ]
  },
  {
   "cell_type": "markdown",
   "metadata": {},
   "source": [
    "## IMPORT DATA "
   ]
  },
  {
   "cell_type": "code",
   "execution_count": 21,
   "metadata": {},
   "outputs": [],
   "source": [
    "data_excel = pd.read_excel(\"Mini Project EFSA.xlsx\")\n",
    "data=pd.DataFrame(data_excel)"
   ]
  },
  {
   "cell_type": "code",
   "execution_count": 3,
   "metadata": {},
   "outputs": [
    {
     "data": {
      "text/html": [
       "<div>\n",
       "<style scoped>\n",
       "    .dataframe tbody tr th:only-of-type {\n",
       "        vertical-align: middle;\n",
       "    }\n",
       "\n",
       "    .dataframe tbody tr th {\n",
       "        vertical-align: top;\n",
       "    }\n",
       "\n",
       "    .dataframe thead th {\n",
       "        text-align: right;\n",
       "    }\n",
       "</style>\n",
       "<table border=\"1\" class=\"dataframe\">\n",
       "  <thead>\n",
       "    <tr style=\"text-align: right;\">\n",
       "      <th></th>\n",
       "      <th>response</th>\n",
       "      <th>number of animals</th>\n",
       "      <th>SD</th>\n",
       "      <th>dose</th>\n",
       "      <th>sex \\n(0=M, 1=F)</th>\n",
       "      <th>endpoint</th>\n",
       "    </tr>\n",
       "  </thead>\n",
       "  <tbody>\n",
       "    <tr>\n",
       "      <th>0</th>\n",
       "      <td>570.4</td>\n",
       "      <td>9</td>\n",
       "      <td>75.6</td>\n",
       "      <td>0</td>\n",
       "      <td>0</td>\n",
       "      <td>1</td>\n",
       "    </tr>\n",
       "    <tr>\n",
       "      <th>1</th>\n",
       "      <td>548.5</td>\n",
       "      <td>10</td>\n",
       "      <td>44.3</td>\n",
       "      <td>30</td>\n",
       "      <td>0</td>\n",
       "      <td>1</td>\n",
       "    </tr>\n",
       "    <tr>\n",
       "      <th>2</th>\n",
       "      <td>533.0</td>\n",
       "      <td>10</td>\n",
       "      <td>72.3</td>\n",
       "      <td>100</td>\n",
       "      <td>0</td>\n",
       "      <td>1</td>\n",
       "    </tr>\n",
       "    <tr>\n",
       "      <th>3</th>\n",
       "      <td>488.1</td>\n",
       "      <td>9</td>\n",
       "      <td>42.5</td>\n",
       "      <td>150</td>\n",
       "      <td>0</td>\n",
       "      <td>1</td>\n",
       "    </tr>\n",
       "    <tr>\n",
       "      <th>4</th>\n",
       "      <td>329.8</td>\n",
       "      <td>10</td>\n",
       "      <td>46.8</td>\n",
       "      <td>0</td>\n",
       "      <td>1</td>\n",
       "      <td>1</td>\n",
       "    </tr>\n",
       "    <tr>\n",
       "      <th>5</th>\n",
       "      <td>319.7</td>\n",
       "      <td>10</td>\n",
       "      <td>24.3</td>\n",
       "      <td>30</td>\n",
       "      <td>1</td>\n",
       "      <td>1</td>\n",
       "    </tr>\n",
       "    <tr>\n",
       "      <th>6</th>\n",
       "      <td>293.3</td>\n",
       "      <td>10</td>\n",
       "      <td>20.1</td>\n",
       "      <td>100</td>\n",
       "      <td>1</td>\n",
       "      <td>1</td>\n",
       "    </tr>\n",
       "    <tr>\n",
       "      <th>7</th>\n",
       "      <td>312.4</td>\n",
       "      <td>10</td>\n",
       "      <td>43.1</td>\n",
       "      <td>150</td>\n",
       "      <td>1</td>\n",
       "      <td>1</td>\n",
       "    </tr>\n",
       "    <tr>\n",
       "      <th>8</th>\n",
       "      <td>45.2</td>\n",
       "      <td>9</td>\n",
       "      <td>1.5</td>\n",
       "      <td>0</td>\n",
       "      <td>0</td>\n",
       "      <td>2</td>\n",
       "    </tr>\n",
       "    <tr>\n",
       "      <th>9</th>\n",
       "      <td>44.6</td>\n",
       "      <td>10</td>\n",
       "      <td>1.7</td>\n",
       "      <td>30</td>\n",
       "      <td>0</td>\n",
       "      <td>2</td>\n",
       "    </tr>\n",
       "    <tr>\n",
       "      <th>10</th>\n",
       "      <td>43.0</td>\n",
       "      <td>10</td>\n",
       "      <td>3.8</td>\n",
       "      <td>100</td>\n",
       "      <td>0</td>\n",
       "      <td>2</td>\n",
       "    </tr>\n",
       "    <tr>\n",
       "      <th>11</th>\n",
       "      <td>42.8</td>\n",
       "      <td>9</td>\n",
       "      <td>1.7</td>\n",
       "      <td>150</td>\n",
       "      <td>0</td>\n",
       "      <td>2</td>\n",
       "    </tr>\n",
       "    <tr>\n",
       "      <th>12</th>\n",
       "      <td>44.7</td>\n",
       "      <td>10</td>\n",
       "      <td>1.3</td>\n",
       "      <td>0</td>\n",
       "      <td>1</td>\n",
       "      <td>2</td>\n",
       "    </tr>\n",
       "    <tr>\n",
       "      <th>13</th>\n",
       "      <td>44.1</td>\n",
       "      <td>10</td>\n",
       "      <td>1.6</td>\n",
       "      <td>30</td>\n",
       "      <td>1</td>\n",
       "      <td>2</td>\n",
       "    </tr>\n",
       "    <tr>\n",
       "      <th>14</th>\n",
       "      <td>41.5</td>\n",
       "      <td>10</td>\n",
       "      <td>1.6</td>\n",
       "      <td>100</td>\n",
       "      <td>1</td>\n",
       "      <td>2</td>\n",
       "    </tr>\n",
       "    <tr>\n",
       "      <th>15</th>\n",
       "      <td>42.1</td>\n",
       "      <td>10</td>\n",
       "      <td>1.2</td>\n",
       "      <td>150</td>\n",
       "      <td>1</td>\n",
       "      <td>2</td>\n",
       "    </tr>\n",
       "    <tr>\n",
       "      <th>16</th>\n",
       "      <td>18.3</td>\n",
       "      <td>9</td>\n",
       "      <td>0.5</td>\n",
       "      <td>0</td>\n",
       "      <td>0</td>\n",
       "      <td>3</td>\n",
       "    </tr>\n",
       "    <tr>\n",
       "      <th>17</th>\n",
       "      <td>17.9</td>\n",
       "      <td>10</td>\n",
       "      <td>0.5</td>\n",
       "      <td>30</td>\n",
       "      <td>0</td>\n",
       "      <td>3</td>\n",
       "    </tr>\n",
       "    <tr>\n",
       "      <th>18</th>\n",
       "      <td>16.5</td>\n",
       "      <td>10</td>\n",
       "      <td>0.6</td>\n",
       "      <td>100</td>\n",
       "      <td>0</td>\n",
       "      <td>3</td>\n",
       "    </tr>\n",
       "    <tr>\n",
       "      <th>19</th>\n",
       "      <td>16.3</td>\n",
       "      <td>9</td>\n",
       "      <td>0.8</td>\n",
       "      <td>150</td>\n",
       "      <td>0</td>\n",
       "      <td>3</td>\n",
       "    </tr>\n",
       "    <tr>\n",
       "      <th>20</th>\n",
       "      <td>19.1</td>\n",
       "      <td>10</td>\n",
       "      <td>0.5</td>\n",
       "      <td>0</td>\n",
       "      <td>1</td>\n",
       "      <td>3</td>\n",
       "    </tr>\n",
       "    <tr>\n",
       "      <th>21</th>\n",
       "      <td>19.0</td>\n",
       "      <td>10</td>\n",
       "      <td>0.4</td>\n",
       "      <td>30</td>\n",
       "      <td>1</td>\n",
       "      <td>3</td>\n",
       "    </tr>\n",
       "    <tr>\n",
       "      <th>22</th>\n",
       "      <td>17.9</td>\n",
       "      <td>10</td>\n",
       "      <td>0.5</td>\n",
       "      <td>100</td>\n",
       "      <td>1</td>\n",
       "      <td>3</td>\n",
       "    </tr>\n",
       "    <tr>\n",
       "      <th>23</th>\n",
       "      <td>17.3</td>\n",
       "      <td>10</td>\n",
       "      <td>0.6</td>\n",
       "      <td>150</td>\n",
       "      <td>1</td>\n",
       "      <td>3</td>\n",
       "    </tr>\n",
       "  </tbody>\n",
       "</table>\n",
       "</div>"
      ],
      "text/plain": [
       "    response  number of animals    SD  dose  sex \\n(0=M, 1=F)  endpoint\n",
       "0      570.4                  9  75.6     0                 0         1\n",
       "1      548.5                 10  44.3    30                 0         1\n",
       "2      533.0                 10  72.3   100                 0         1\n",
       "3      488.1                  9  42.5   150                 0         1\n",
       "4      329.8                 10  46.8     0                 1         1\n",
       "5      319.7                 10  24.3    30                 1         1\n",
       "6      293.3                 10  20.1   100                 1         1\n",
       "7      312.4                 10  43.1   150                 1         1\n",
       "8       45.2                  9   1.5     0                 0         2\n",
       "9       44.6                 10   1.7    30                 0         2\n",
       "10      43.0                 10   3.8   100                 0         2\n",
       "11      42.8                  9   1.7   150                 0         2\n",
       "12      44.7                 10   1.3     0                 1         2\n",
       "13      44.1                 10   1.6    30                 1         2\n",
       "14      41.5                 10   1.6   100                 1         2\n",
       "15      42.1                 10   1.2   150                 1         2\n",
       "16      18.3                  9   0.5     0                 0         3\n",
       "17      17.9                 10   0.5    30                 0         3\n",
       "18      16.5                 10   0.6   100                 0         3\n",
       "19      16.3                  9   0.8   150                 0         3\n",
       "20      19.1                 10   0.5     0                 1         3\n",
       "21      19.0                 10   0.4    30                 1         3\n",
       "22      17.9                 10   0.5   100                 1         3\n",
       "23      17.3                 10   0.6   150                 1         3"
      ]
     },
     "execution_count": 3,
     "metadata": {},
     "output_type": "execute_result"
    }
   ],
   "source": [
    "data"
   ]
  },
  {
   "cell_type": "markdown",
   "metadata": {},
   "source": [
    "##  I will plot the dose response for each gender and endpoint"
   ]
  },
  {
   "cell_type": "code",
   "execution_count": 22,
   "metadata": {},
   "outputs": [
    {
     "data": {
      "image/png": "[encoded data removed]",
      "text/plain": [
       "<Figure size 432x288 with 1 Axes>"
      ]
     },
     "metadata": {
      "needs_background": "light"
     },
     "output_type": "display_data"
    },
    {
     "data": {
      "image/png": "[encoded data removed]",
      "text/plain": [
       "<Figure size 432x288 with 1 Axes>"
      ]
     },
     "metadata": {
      "needs_background": "light"
     },
     "output_type": "display_data"
    },
    {
     "data": {
      "image/png": "[encoded data removed]",
      "text/plain": [
       "<Figure size 432x288 with 1 Axes>"
      ]
     },
     "metadata": {
      "needs_background": "light"
     },
     "output_type": "display_data"
    },
    {
     "data": {
      "image/png": "[encoded data removed]",
      "text/plain": [
       "<Figure size 432x288 with 1 Axes>"
      ]
     },
     "metadata": {
      "needs_background": "light"
     },
     "output_type": "display_data"
    },
    {
     "data": {
      "image/png": "[encoded data removed]",
      "text/plain": [
       "<Figure size 432x288 with 1 Axes>"
      ]
     },
     "metadata": {
      "needs_background": "light"
     },
     "output_type": "display_data"
    },
    {
     "data": {
      "image/png": "[encoded data removed]",
      "text/plain": [
       "<Figure size 432x288 with 1 Axes>"
      ]
     },
     "metadata": {
      "needs_background": "light"
     },
     "output_type": "display_data"
    }
   ],
   "source": [
    "for y in range(int(len(data)/4)): # every 4 row our endpoint changes that is why I am dividing the lenght for 4 that is th\n",
    "                                 #itaration number \n",
    "    if y ==0:\n",
    "        i=0\n",
    "    else:\n",
    "        i+=4\n",
    "        \n",
    "    x1 = data.iloc[i:i+4]['dose']\n",
    "    y1 = data.iloc[i:i+4]['response']\n",
    "    yerr=data.iloc[i:i+4]['SD']\n",
    "    endpoint=data.iloc[i:i+4]['endpoint']\n",
    "    plot = plt.figure(i) \n",
    "    plt.errorbar(x1, y1 , yerr, fmt='o', color='Black', elinewidth=3,capthick=5,errorevery=1, alpha=1, ms=4, capsize = 5)\n",
    "    plt.bar(x1, y1, width=20, align='center',color='red')\n",
    "    plt.xticks(x1)\n",
    "    t= endpoint[i]\n",
    "    \n",
    "    if y%2==0:\n",
    "        plt.title('Males Endpoint = {}'.format(t))\n",
    "        plt.savefig('Males Endpoint = {}.png'.format(t)) ## saving the plot as a png file\n",
    "    else:\n",
    "        plt.title('Females Endpoint = {}'.format(t))\n",
    "        plt.savefig('Females Endpoint = {}.png'.format(t)) ## saving the plot as a png file\n",
    "    plt.xlabel('Dose') ## Label on X axis\n",
    "    plt.ylabel('Response') ##Label on Y axis\n",
    "    \n",
    "   "
   ]
  },
  {
   "cell_type": "markdown",
   "metadata": {},
   "source": [
    "# Change the column name and set dummy variables\n",
    "\n",
    "## I am creating dummy variables for gender and endpoint coefficients since these are categorical data at the end I will have variables named Male , Female and 1,2,3 for endpoints"
   ]
  },
  {
   "cell_type": "code",
   "execution_count": 23,
   "metadata": {},
   "outputs": [
    {
     "name": "stdout",
     "output_type": "stream",
     "text": [
      "    response  number of animals    SD  dose  Male  Female  1  2  3\n",
      "0      570.4                  9  75.6     0     1       0  1  0  0\n",
      "1      548.5                 10  44.3    30     1       0  1  0  0\n",
      "2      533.0                 10  72.3   100     1       0  1  0  0\n",
      "3      488.1                  9  42.5   150     1       0  1  0  0\n",
      "4      329.8                 10  46.8     0     0       1  1  0  0\n",
      "5      319.7                 10  24.3    30     0       1  1  0  0\n",
      "6      293.3                 10  20.1   100     0       1  1  0  0\n",
      "7      312.4                 10  43.1   150     0       1  1  0  0\n",
      "8       45.2                  9   1.5     0     1       0  0  1  0\n",
      "9       44.6                 10   1.7    30     1       0  0  1  0\n",
      "10      43.0                 10   3.8   100     1       0  0  1  0\n",
      "11      42.8                  9   1.7   150     1       0  0  1  0\n",
      "12      44.7                 10   1.3     0     0       1  0  1  0\n",
      "13      44.1                 10   1.6    30     0       1  0  1  0\n",
      "14      41.5                 10   1.6   100     0       1  0  1  0\n",
      "15      42.1                 10   1.2   150     0       1  0  1  0\n",
      "16      18.3                  9   0.5     0     1       0  0  0  1\n",
      "17      17.9                 10   0.5    30     1       0  0  0  1\n",
      "18      16.5                 10   0.6   100     1       0  0  0  1\n",
      "19      16.3                  9   0.8   150     1       0  0  0  1\n",
      "20      19.1                 10   0.5     0     0       1  0  0  1\n",
      "21      19.0                 10   0.4    30     0       1  0  0  1\n",
      "22      17.9                 10   0.5   100     0       1  0  0  1\n",
      "23      17.3                 10   0.6   150     0       1  0  0  1\n"
     ]
    },
    {
     "data": {
      "text/plain": [
       "response             40512.038678\n",
       "number of animals        0.195652\n",
       "SD                     587.859928\n",
       "dose                  3600.000000\n",
       "Male                     0.260870\n",
       "Female                   0.260870\n",
       "1                        0.231884\n",
       "2                        0.231884\n",
       "3                        0.231884\n",
       "dtype: float64"
      ]
     },
     "execution_count": 23,
     "metadata": {},
     "output_type": "execute_result"
    }
   ],
   "source": [
    "data_excel = pd.read_excel(\"Mini Project EFSA.xlsx\")\n",
    "data=pd.DataFrame(data_excel)\n",
    "\n",
    "data['endpoint'] = pd.Categorical(data.endpoint)\n",
    "data = data.rename(columns={\"sex \\n(0=M, 1=F)\": \"Gender\"})\n",
    "\n",
    "data ['Gender'] = data['Gender'].astype('category')\n",
    "data ['endpoint'] = data['endpoint'].astype('category')\n",
    "\n",
    "dummies = pd.get_dummies(data.Gender)\n",
    "data = data.drop(columns=['Gender']).merge(dummies,left_index=True,right_index=True)\n",
    "data = data.rename(columns={0: \"Male\"})\n",
    "data = data.rename(columns={1: \"Female\"})\n",
    "\n",
    "dummies = pd.get_dummies(data.endpoint)\n",
    "data = data.drop(columns=['endpoint']).merge(dummies,left_index=True,right_index=True)\n",
    "print(data)\n",
    "data.var() # let's see our variance"
   ]
  },
  {
   "cell_type": "markdown",
   "metadata": {},
   "source": [
    "## MODEL 1 (Using Backword Subset Selection for Endpoint 1)"
   ]
  },
  {
   "cell_type": "code",
   "execution_count": 24,
   "metadata": {},
   "outputs": [
    {
     "name": "stdout",
     "output_type": "stream",
     "text": [
      "Current Features : \n",
      " ['Male', 'Female', 'dose']\n",
      "Adjusted R2 : 0.9691548841737415\n",
      "         R2 : 0.9814929305042449\n",
      "Current Features : \n",
      " ['Male', 'Female']\n",
      "Adjusted R2 : 0.932991176652216\n",
      "         R2 : 0.9463929413217728\n",
      "Selected Features are:  ['Male', 'Female']\n"
     ]
    }
   ],
   "source": [
    "# Backward Elimination\n",
    "\n",
    "X_Train_model_1 = data.iloc[0:8][['Male','Female','dose']] \n",
    "\n",
    "\n",
    "Target_model_1=data.iloc[0:8][['response']]\n",
    "\n",
    "Features_FOR_MODEL_1, X_test_model_1, Target_model_1, Target_test_model_1 = train_test_split(X_Train_model_1, Target_model_1, test_size=0.13, random_state=42)\n",
    "\n",
    "cols = list(Features_FOR_MODEL_1.columns)\n",
    "pmax = 1\n",
    "while (len(cols)>0):\n",
    "    p= []\n",
    "    Features_Subset_model_1 = Features_FOR_MODEL_1[cols]\n",
    "    ##Features_Subset = sm.add_constant(Features_Subset)\n",
    "    model_1 = sm.WLS(Target_model_1,Features_Subset_model_1).fit()\n",
    "    p = pd.Series(model_1.pvalues.values[0:],index = cols) \n",
    "    pmax = max(p)\n",
    "    feature_with_p_max = p.idxmax()\n",
    "    print(\"Current Features : \\n\",cols)\n",
    "    print(\"Adjusted R2 :\", model_1.rsquared_adj)\n",
    "    print(\"         R2 :\", model_1.rsquared)\n",
    "    if(pmax>0.05):\n",
    "        cols.remove(feature_with_p_max)\n",
    "    else:\n",
    "        break\n",
    "selected_features_model_1 = cols\n",
    "print(\"Selected Features are: \", selected_features_model_1)"
   ]
  },
  {
   "cell_type": "markdown",
   "metadata": {},
   "source": [
    "### Based on the p values comparison selection algorithm took Female coefficient out of the model but since This is a categorical variable we can not simply take Female out and use Male so our model will have 'Male','Female', as  coefficients and the adjusted R2 score is 0.94 in this case."
   ]
  },
  {
   "cell_type": "markdown",
   "metadata": {},
   "source": [
    "## Model 1 Score "
   ]
  },
  {
   "cell_type": "code",
   "execution_count": 25,
   "metadata": {},
   "outputs": [
    {
     "name": "stdout",
     "output_type": "stream",
     "text": [
      "         mean    mean_se  mean_ci_lower  mean_ci_upper  obs_ci_lower  \\\n",
      "1  530.500000  18.399789     479.413997     581.586003    428.327994   \n",
      "5  311.833333  18.399789     260.747330     362.919336    209.661327   \n",
      "\n",
      "   obs_ci_upper  \n",
      "1    632.672006  \n",
      "5    414.005340  \n"
     ]
    },
    {
     "data": {
      "image/png": "[encoded data removed]",
      "text/plain": [
       "<Figure size 432x288 with 1 Axes>"
      ]
     },
     "metadata": {
      "needs_background": "light"
     },
     "output_type": "display_data"
    },
    {
     "name": "stdout",
     "output_type": "stream",
     "text": [
      "TEST RESPONSE VALUES:\n",
      "     response\n",
      "1     548.5\n",
      "5     319.7\n",
      "Predictions: \n",
      " 1    530.500000\n",
      "5    311.833333\n",
      "dtype: float64\n"
     ]
    }
   ],
   "source": [
    "Features_Subset_model_1 = X_test_model_1[selected_features_model_1]\n",
    "wls_predictions= model_1.get_prediction(Features_Subset_model_1)\n",
    "predictions_summary_frame = wls_predictions.summary_frame()\n",
    "print(predictions_summary_frame)\n",
    "\n",
    "predicted_response=predictions_summary_frame['mean']\n",
    "actual_response = Target_test_model_1\n",
    "fig = plt.figure()\n",
    "fig.suptitle('Predicted response versus actual response ')\n",
    "predicted, = plt.plot(X_test_model_1.index, predicted_response, 'go-', label='Predicted response')\n",
    "actual, = plt.plot(X_test_model_1.index, actual_response, 'ro-', label='real response')\n",
    "plt.legend(handles=[predicted, actual])\n",
    "plt.show()\n",
    "print(\"TEST RESPONSE VALUES:\\n \",Target_test_model_1)\n",
    "print('Predictions: \\n',model_1.predict(Features_Subset_model_1))"
   ]
  },
  {
   "cell_type": "code",
   "execution_count": 28,
   "metadata": {},
   "outputs": [
    {
     "name": "stdout",
     "output_type": "stream",
     "text": [
      "0    530.500000\n",
      "7    311.833333\n",
      "2    530.500000\n",
      "4    311.833333\n",
      "3    530.500000\n",
      "6    311.833333\n",
      "dtype: float64\n",
      "[530.5        311.83333333 530.5        311.83333333 530.5\n",
      " 311.83333333]\n",
      "              Male      Female\n",
      "Male    338.552222    0.000000\n",
      "Female    0.000000  338.552222\n"
     ]
    }
   ],
   "source": [
    "print(model_1.fittedvalues)\n",
    "\n",
    "print(model_1.predict())\n",
    "\n",
    "print(model_1.cov_params())"
   ]
  },
  {
   "cell_type": "markdown",
   "metadata": {},
   "source": [
    "## MODEL 2 (Using Backword Subset Selection for Endpoint 2)"
   ]
  },
  {
   "cell_type": "code",
   "execution_count": 29,
   "metadata": {},
   "outputs": [
    {
     "name": "stdout",
     "output_type": "stream",
     "text": [
      "Current Features : \n",
      " ['Male', 'Female', 'dose']\n",
      "Adjusted R2 : 0.7388438706182437\n",
      "         R2 : 0.8433063223709463\n",
      "Selected Features are:  ['Male', 'Female', 'dose']\n"
     ]
    }
   ],
   "source": [
    "# Backward Elimination\n",
    "\n",
    "\n",
    "\n",
    "X_Train_model_2 = data.iloc[8:16][['Male','Female','dose']]\n",
    "\n",
    "Target_model_2=data.iloc[8:16][['response']]\n",
    "\n",
    "Features_FOR_MODEL_2, X_test_model_2, Target_model_2, Target_test_model_2 = train_test_split(X_Train_model_2, Target_model_2, test_size=0.13, random_state=42)\n",
    "\n",
    "cols = list(Features_FOR_MODEL_2.columns)\n",
    "pmax = 1\n",
    "while (len(cols)>0):\n",
    "    p= []\n",
    "    Features_Subset_model_2 = Features_FOR_MODEL_2[cols]\n",
    "    ##Features_Subset = sm.add_constant(Features_Subset)\n",
    "    model_2 = sm.WLS(Target_model_2,Features_Subset_model_2).fit()\n",
    "    p = pd.Series(model_2.pvalues.values[0:],index = cols) \n",
    "    pmax = max(p)\n",
    "    feature_with_p_max = p.idxmax()\n",
    "    print(\"Current Features : \\n\",cols)\n",
    "    print(\"Adjusted R2 :\", model_2.rsquared_adj)\n",
    "    print(\"         R2 :\", model_2.rsquared)\n",
    "    if(pmax>0.05):\n",
    "        cols.remove(feature_with_p_max)\n",
    "    else:\n",
    "        break\n",
    "selected_features_model_2 = cols\n",
    "print(\"Selected Features are: \", selected_features_model_2)"
   ]
  },
  {
   "cell_type": "markdown",
   "metadata": {},
   "source": [
    "### Based on the p values comparison selection  we will have 'Male','Female' , 'dose'  as  coefficients and the adjusted R2 score is 0.73 in this case."
   ]
  },
  {
   "cell_type": "code",
   "execution_count": 30,
   "metadata": {},
   "outputs": [
    {
     "name": "stdout",
     "output_type": "stream",
     "text": [
      "         mean    mean_se  mean_ci_lower  mean_ci_upper  obs_ci_lower  \\\n",
      "1  530.500000  18.399789     479.413997     581.586003    428.327994   \n",
      "5  311.833333  18.399789     260.747330     362.919336    209.661327   \n",
      "\n",
      "   obs_ci_upper  \n",
      "1    632.672006  \n",
      "5    414.005340  \n"
     ]
    },
    {
     "data": {
      "image/png": "[encoded data removed]",
      "text/plain": [
       "<Figure size 432x288 with 1 Axes>"
      ]
     },
     "metadata": {
      "needs_background": "light"
     },
     "output_type": "display_data"
    },
    {
     "name": "stdout",
     "output_type": "stream",
     "text": [
      "TEST RESPONSE VALUES:\n",
      "      response\n",
      "9       44.6\n",
      "13      44.1\n",
      "Predictions: \n",
      " 1    44.634286\n",
      "5    43.734286\n",
      "dtype: float64\n"
     ]
    }
   ],
   "source": [
    "Features_Subset_model_2 = X_test_model_1[selected_features_model_2]\n",
    "wls_predictions_2= model_2.get_prediction(Features_Subset_model_2)\n",
    "predictions_summary_frame_2= wls_predictions_2.summary_frame()\n",
    "print(predictions_summary_frame)\n",
    "\n",
    "predicted_response_2=predictions_summary_frame_2['mean']\n",
    "actual_response_2 = Target_test_model_2\n",
    "fig = plt.figure()\n",
    "fig.suptitle('Predicted response versus actual response ')\n",
    "predicted_2, = plt.plot(X_test_model_2.index, predicted_response_2, 'go-', label='Predicted response')\n",
    "actual_2, = plt.plot(X_test_model_2.index, actual_response_2, 'ro-', label='real response')\n",
    "plt.legend(handles=[predicted_2, actual_2])\n",
    "plt.show()\n",
    "print(\"TEST RESPONSE VALUES:\\n \",Target_test_model_2)\n",
    "print('Predictions: \\n',model_2.predict(Features_Subset_model_2))"
   ]
  },
  {
   "cell_type": "markdown",
   "metadata": {},
   "source": [
    "## MODEL 3 (Using Backword Subset Selection for Endpoint 3)"
   ]
  },
  {
   "cell_type": "code",
   "execution_count": 16,
   "metadata": {},
   "outputs": [
    {
     "name": "stdout",
     "output_type": "stream",
     "text": [
      "Current Features : \n",
      " ['Male', 'Female', 'dose']\n",
      "Adjusted R2 : 0.9531727828746178\n",
      "         R2 : 0.9719036697247707\n",
      "Selected Features are:  ['Male', 'Female', 'dose']\n"
     ]
    }
   ],
   "source": [
    "# Backward Elimination\n",
    "\n",
    "X_Train_model_3 = data.iloc[16:24][['Male','Female','dose']]\n",
    "\n",
    "\n",
    "Target_model_3=data.iloc[16:24][['response']]\n",
    "\n",
    "Features_FOR_MODEL_3, X_test_model_3, Target_model_3, Target_test_model_3 = train_test_split(X_Train_model_3, Target_model_3, test_size=0.13, random_state=42)\n",
    "\n",
    "cols = list(Features_FOR_MODEL_3.columns)\n",
    "pmax = 1\n",
    "while (len(cols)>0):\n",
    "    p= []\n",
    "    Features_Subset_model_3 = Features_FOR_MODEL_3[cols]\n",
    "    ##Features_Subset = sm.add_constant(Features_Subset)\n",
    "    model_3 = sm.WLS(Target_model_3,Features_Subset_model_3).fit()\n",
    "    p = pd.Series(model_3.pvalues.values[0:],index = cols) \n",
    "    pmax = max(p)\n",
    "    feature_with_p_max = p.idxmax()\n",
    "    print(\"Current Features : \\n\",cols)\n",
    "    print(\"Adjusted R2 :\", model_3.rsquared_adj)\n",
    "    print(\"         R2 :\", model_3.rsquared)\n",
    "    if(pmax>0.05):\n",
    "        cols.remove(feature_with_p_max)\n",
    "    else:\n",
    "        break\n",
    "selected_features_model_3 = cols\n",
    "print(\"Selected Features are: \", selected_features_model_3)"
   ]
  },
  {
   "cell_type": "markdown",
   "metadata": {},
   "source": [
    "### Based on the p values comparison selection  we will have 'Male','Female' , 'dose'  as  coefficients and the adjusted R2 score is 0.95 in this case."
   ]
  },
  {
   "cell_type": "code",
   "execution_count": 31,
   "metadata": {},
   "outputs": [
    {
     "name": "stdout",
     "output_type": "stream",
     "text": [
      "         mean    mean_se  mean_ci_lower  mean_ci_upper  obs_ci_lower  \\\n",
      "1  530.500000  18.399789     479.413997     581.586003    428.327994   \n",
      "5  311.833333  18.399789     260.747330     362.919336    209.661327   \n",
      "\n",
      "   obs_ci_upper  \n",
      "1    632.672006  \n",
      "5    414.005340  \n"
     ]
    },
    {
     "data": {
      "image/png": "[encoded data removed]",
      "text/plain": [
       "<Figure size 432x288 with 1 Axes>"
      ]
     },
     "metadata": {
      "needs_background": "light"
     },
     "output_type": "display_data"
    },
    {
     "name": "stdout",
     "output_type": "stream",
     "text": [
      "TEST RESPONSE VALUES:\n",
      "      response\n",
      "17      17.9\n",
      "21      19.0\n",
      "Predictions: \n",
      " 17    17.726667\n",
      "21    18.793333\n",
      "dtype: float64\n"
     ]
    }
   ],
   "source": [
    "Features_Subset_model_3 = X_test_model_3[selected_features_model_3]\n",
    "wls_predictions_3= model_3.get_prediction(Features_Subset_model_3)\n",
    "predictions_summary_frame_3= wls_predictions_3.summary_frame()\n",
    "print(predictions_summary_frame)\n",
    "\n",
    "predicted_response_3=predictions_summary_frame_3['mean']\n",
    "actual_response_3 = Target_test_model_3\n",
    "fig = plt.figure()\n",
    "fig.suptitle('Predicted response versus actual response ')\n",
    "predicted_3, = plt.plot(X_test_model_3.index, predicted_response_3, 'go-', label='Predicted response')\n",
    "actual_3, = plt.plot(X_test_model_3.index, actual_response_3, 'ro-', label='real response')\n",
    "plt.legend(handles=[predicted_2, actual_2])\n",
    "plt.show()\n",
    "print(\"TEST RESPONSE VALUES:\\n \",Target_test_model_3)\n",
    "print('Predictions: \\n',model_3.predict(Features_Subset_model_3))"
   ]
  },
  {
   "cell_type": "markdown",
   "metadata": {},
   "source": [
    "## Unique MODEL 4 (All the endpoints are included as coefficients in One Model)"
   ]
  },
  {
   "cell_type": "code",
   "execution_count": 32,
   "metadata": {},
   "outputs": [
    {
     "name": "stdout",
     "output_type": "stream",
     "text": [
      "Current Features : \n",
      " ['dose', 'Male', 'Female', 1, 2, 3]\n",
      "Adjusted R2 : 0.9100284763476553\n",
      "         R2 : 0.9289698497481489\n",
      "Current Features : \n",
      " ['Male', 'Female', 1, 2, 3]\n",
      "Adjusted R2 : 0.9147183400446104\n",
      "         R2 : 0.9281838653007245\n",
      "Selected Features are:  ['Male', 'Female', 1, 2, 3]\n"
     ]
    }
   ],
   "source": [
    "X_Train_model_4 = data[['dose','Male','Female',1,2,3]]\n",
    "# Backward Elimination\n",
    "Target_model_4=data['response']\n",
    "\n",
    "Features_FOR_MODEL_4, X_test_model_4, Target_model_4, Target_test_model_4 = train_test_split(X_Train_model_4, Target_model_4, test_size=0.13, random_state=42)\n",
    "\n",
    "cols = list(Features_FOR_MODEL_4.columns)\n",
    "pmax = 1\n",
    "while (len(cols)>0):\n",
    "    p= []\n",
    "    Features_Subset_model_4 = Features_FOR_MODEL_4[cols]\n",
    "    ##Features_Subset = sm.add_constant(Features_Subset)\n",
    "    model_4 = sm.WLS(Target_model_4,Features_Subset_model_4).fit()\n",
    "    reg = LinearRegression().fit(Features_Subset_model_4, Target_model_4)\n",
    "    p = pd.Series(model_4.pvalues.values[0:],index = cols) \n",
    "    pmax = max(p)\n",
    "    feature_with_p_max = p.idxmax()\n",
    "    print(\"Current Features : \\n\",cols)\n",
    "    print(\"Adjusted R2 :\", model_4.rsquared_adj)\n",
    "    print(\"         R2 :\", model_4.rsquared)\n",
    "    if(pmax>0.05):\n",
    "        cols.remove(feature_with_p_max)\n",
    "    else:\n",
    "        break\n",
    "selected_features_model_4= cols\n",
    "print(\"Selected Features are: \", selected_features_model_4)"
   ]
  },
  {
   "cell_type": "markdown",
   "metadata": {},
   "source": [
    "## MODEL 4 SCORES"
   ]
  },
  {
   "cell_type": "code",
   "execution_count": 33,
   "metadata": {
    "scrolled": true
   },
   "outputs": [
    {
     "name": "stdout",
     "output_type": "stream",
     "text": [
      "         mean    mean_se  mean_ci_lower  mean_ci_upper  obs_ci_lower  \\\n",
      "1  530.500000  18.399789     479.413997     581.586003    428.327994   \n",
      "5  311.833333  18.399789     260.747330     362.919336    209.661327   \n",
      "\n",
      "   obs_ci_upper  \n",
      "1    632.672006  \n",
      "5    414.005340  \n"
     ]
    },
    {
     "data": {
      "image/png": "[encoded data removed]",
      "text/plain": [
       "<Figure size 432x288 with 1 Axes>"
      ]
     },
     "metadata": {
      "needs_background": "light"
     },
     "output_type": "display_data"
    },
    {
     "name": "stdout",
     "output_type": "stream",
     "text": [
      "TEST RESPONSE VALUES:\n",
      "  8      45.2\n",
      "16     18.3\n",
      "0     570.4\n",
      "18     16.5\n",
      "Name: response, dtype: float64\n",
      "Predictions: \n",
      " 8      86.213143\n",
      "16     68.032000\n",
      "0     446.498857\n",
      "18     68.032000\n",
      "dtype: float64\n",
      "regression_model.score:\n",
      " 0.9002822933484461\n"
     ]
    }
   ],
   "source": [
    "Features_Subset_model_4 = X_test_model_4[selected_features_model_4]\n",
    "wls_predictions_4= model_4.get_prediction(Features_Subset_model_4)\n",
    "predictions_summary_frame_4= wls_predictions_4.summary_frame()\n",
    "print(predictions_summary_frame)\n",
    "\n",
    "predicted_response_4=predictions_summary_frame_4['mean']\n",
    "actual_response_4 = Target_test_model_4\n",
    "fig = plt.figure()\n",
    "fig.suptitle('Predicted response versus actual response ')\n",
    "predicted_4, = plt.plot(X_test_model_4.index, predicted_response_4, 'go-', label='Predicted response')\n",
    "actual_4, = plt.plot(X_test_model_4.index, actual_response_4, 'ro-', label='real response')\n",
    "plt.legend(handles=[predicted_4, actual_4])\n",
    "plt.show()\n",
    "print(\"TEST RESPONSE VALUES:\\n \",Target_test_model_4)\n",
    "print('Predictions: \\n',model_4.predict(Features_Subset_model_4))\n",
    "reg.predict(Features_Subset_model_4)\n",
    "print('regression_model.score:\\n',reg.score(Features_Subset_model_4, Target_test_model_4))\n"
   ]
  },
  {
   "cell_type": "code",
   "execution_count": 34,
   "metadata": {},
   "outputs": [
    {
     "name": "stdout",
     "output_type": "stream",
     "text": [
      "11     86.213143\n",
      "9      86.213143\n",
      "13     11.040143\n",
      "1     446.498857\n",
      "21     -7.141000\n",
      "5     371.325857\n",
      "2     446.498857\n",
      "12     11.040143\n",
      "15     11.040143\n",
      "3     446.498857\n",
      "4     371.325857\n",
      "22     -7.141000\n",
      "17     68.032000\n",
      "20     -7.141000\n",
      "23     -7.141000\n",
      "7     371.325857\n",
      "10     86.213143\n",
      "14     11.040143\n",
      "19     68.032000\n",
      "6     371.325857\n",
      "dtype: float64\n",
      "[ 86.21314286  86.21314286  11.04014286 446.49885714  -7.141\n",
      " 371.32585714 446.49885714  11.04014286  11.04014286 446.49885714\n",
      " 371.32585714  -7.141       68.032       -7.141       -7.141\n",
      " 371.32585714  86.21314286  11.04014286  68.032      371.32585714]\n",
      "              Male      Female           1           2           3\n",
      "Male    268.788756 -107.005950   36.942530   36.942530   87.897745\n",
      "Female -107.005950  185.986533   30.573129   30.573129   17.834325\n",
      "1        36.942530   30.573129  330.662945 -124.294327 -138.852959\n",
      "2        36.942530   30.573129 -124.294327  330.662945 -138.852959\n",
      "3        87.897745   17.834325 -138.852959 -138.852959  383.437988\n"
     ]
    }
   ],
   "source": [
    "print(model_4.fittedvalues)\n",
    "\n",
    "print(model_4.predict())\n",
    "\n",
    "print(model_4.cov_params())"
   ]
  },
  {
   "cell_type": "code",
   "execution_count": null,
   "metadata": {},
   "outputs": [],
   "source": []
  }
 ],
 "metadata": {
  "kernelspec": {
   "display_name": "Python 3",
   "language": "python",
   "name": "python3"
  },
  "language_info": {
   "codemirror_mode": {
    "name": "ipython",
    "version": 3
   },
   "file_extension": ".py",
   "mimetype": "text/x-python",
   "name": "python",
   "nbconvert_exporter": "python",
   "pygments_lexer": "ipython3",
   "version": "3.8.3"
  }
 },
 "nbformat": 4,
 "nbformat_minor": 4
}
